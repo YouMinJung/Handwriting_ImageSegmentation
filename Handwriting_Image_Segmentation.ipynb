{
  "nbformat": 4,
  "nbformat_minor": 0,
  "metadata": {
    "colab": {
      "name": "Handwriting Image Segmentation.ipynb",
      "provenance": [],
      "collapsed_sections": [],
      "authorship_tag": "ABX9TyOXnbApC5QkFz87tvvJ8fzq",
      "include_colab_link": true
    },
    "kernelspec": {
      "name": "python3",
      "display_name": "Python 3"
    },
    "language_info": {
      "name": "python"
    },
    "accelerator": "GPU",
    "gpuClass": "standard"
  },
  "cells": [
    {
      "cell_type": "markdown",
      "metadata": {
        "id": "view-in-github",
        "colab_type": "text"
      },
      "source": [
        "<a href=\"https://colab.research.google.com/github/YouMinJung/Handwriting_ImageSegmentation/blob/main/Handwriting_Image_Segmentation.ipynb\" target=\"_parent\"><img src=\"https://colab.research.google.com/assets/colab-badge.svg\" alt=\"Open In Colab\"/></a>"
      ]
    },
    {
      "cell_type": "markdown",
      "source": [
        "# Image Segmentation of Handwritten Digits\n",
        "Build  a model that predicts the segmentation masks of handwritten digits.\n",
        "\n",
        "I will use multi digit MNIST Dataset. [M2NIST dataset](https://www.kaggle.com/farhanhubble/multimnistm2nist)"
      ],
      "metadata": {
        "id": "ZUWCs4mHorqC"
      }
    },
    {
      "cell_type": "markdown",
      "source": [
        "## Imports"
      ],
      "metadata": {
        "id": "AH1LYJaqpuY-"
      }
    },
    {
      "cell_type": "code",
      "execution_count": 1,
      "metadata": {
        "colab": {
          "base_uri": "https://localhost:8080/"
        },
        "id": "9nwLOvIKUY6r",
        "outputId": "422edcaf-67b5-4ff2-a726-f3c792ea9634"
      },
      "outputs": [
        {
          "output_type": "stream",
          "name": "stdout",
          "text": [
            "Tensorflow version 2.8.2\n"
          ]
        }
      ],
      "source": [
        "try:\n",
        "  # %tensorflow_version only exists in Colab.\n",
        "  %tensorflow_version 2.x\n",
        "except Exception:\n",
        "  pass\n",
        "\n",
        "import os\n",
        "import zipfile\n",
        "\n",
        "import PIL.Image, PIL.ImageFont, PIL.ImageDraw\n",
        "import numpy as np\n",
        "from matplotlib import pyplot as plt\n",
        "\n",
        "import tensorflow as tf\n",
        "import tensorflow_datasets as tfds\n",
        "from sklearn.model_selection import train_test_split\n",
        "\n",
        "print(\"Tensorflow version \" + tf.__version__)"
      ]
    },
    {
      "cell_type": "markdown",
      "source": [
        "## Download the dataset - M2NIST"
      ],
      "metadata": {
        "id": "FCh1eNDup17S"
      }
    },
    {
      "cell_type": "code",
      "source": [
        "# download zipped dataset\n",
        "!wget --no-check-certificate \\\n",
        "    https://storage.googleapis.com/laurencemoroney-blog.appspot.com/m2nist.zip \\\n",
        "    -O /tmp/m2nist.zip\n",
        "\n",
        "# find and extract to a local folder ('/tmp/training')\n",
        "local_zip = '/tmp/m2nist.zip'\n",
        "zip_ref = zipfile.ZipFile(local_zip, 'r')\n",
        "zip_ref.extractall('/tmp/training')\n",
        "zip_ref.close()"
      ],
      "metadata": {
        "colab": {
          "base_uri": "https://localhost:8080/"
        },
        "id": "1H1RPoBMouJf",
        "outputId": "04abe68c-7375-468c-e629-e77d93ef447e"
      },
      "execution_count": 2,
      "outputs": [
        {
          "output_type": "stream",
          "name": "stdout",
          "text": [
            "--2022-07-15 05:00:23--  https://storage.googleapis.com/laurencemoroney-blog.appspot.com/m2nist.zip\n",
            "Resolving storage.googleapis.com (storage.googleapis.com)... 172.217.164.144, 172.217.13.240, 142.251.45.16, ...\n",
            "Connecting to storage.googleapis.com (storage.googleapis.com)|172.217.164.144|:443... connected.\n",
            "HTTP request sent, awaiting response... 200 OK\n",
            "Length: 17378168 (17M) [application/zip]\n",
            "Saving to: ‘/tmp/m2nist.zip’\n",
            "\n",
            "/tmp/m2nist.zip     100%[===================>]  16.57M  --.-KB/s    in 0.1s    \n",
            "\n",
            "2022-07-15 05:00:24 (172 MB/s) - ‘/tmp/m2nist.zip’ saved [17378168/17378168]\n",
            "\n"
          ]
        }
      ]
    },
    {
      "cell_type": "markdown",
      "source": [
        "## Load and Preprocess the Dataset\n",
        "\n",
        "M2NIST Dataset can be preprocessed since it is available as **Numpy Array Files (.npy)**\n",
        "\n",
        "- **combined.npy** has the image files containing the multiple MNIST digits. Each image is of size **64 x 84** (height x width, in pixels).\n",
        "\n",
        "- **segmented.npy** has the corresponding segmentation masks. Each segmentation mask is also of size **64 x 84**.\n",
        "\n",
        "This dataset has 5000 samples."
      ],
      "metadata": {
        "id": "-FGfZxyUqAnj"
      }
    },
    {
      "cell_type": "code",
      "source": [
        "def load_images_and_segments():\n",
        "  '''\n",
        "  Loads the images and segments as numpy arrays from npy files \n",
        "  and makes splits for training, validation and test datasets.\n",
        "\n",
        "  Returns:\n",
        "    3 tuples containing the train, val, and test splits\n",
        "  '''\n",
        "\n",
        "  #Loads images and segmentation masks.\n",
        "  images = np.load('/tmp/training/combined.npy')\n",
        "  segments = np.load('/tmp/training/segmented.npy')\n",
        "\n",
        "  #Makes training, validation, test splits from loaded images and segmentation masks.\n",
        "  train_images, val_images, train_annos, val_annos = train_test_split(images, segments, test_size=0.2, shuffle=True)\n",
        "  val_images, test_images, val_annos, test_annos = train_test_split(val_images, val_annos, test_size=0.2, shuffle=True)\n",
        "\n",
        "  return (train_images, train_annos), (val_images, val_annos), (test_images, test_annos)\n",
        "\n",
        "\n",
        "# Load Dataset\n",
        "train_slices, val_slices, test_slices = load_images_and_segments()"
      ],
      "metadata": {
        "id": "7ba2n573qm7v"
      },
      "execution_count": 3,
      "outputs": []
    },
    {
      "cell_type": "code",
      "source": [
        "BATCH_SIZE = 32\n",
        "\n",
        "\n",
        "def read_image_and_annotation(image, annotation):\n",
        "  '''\n",
        "  Casts the image and annotation to their expected data type and\n",
        "  normalizes the input image so that each pixel is in the range [-1, 1]\n",
        "\n",
        "  Args:\n",
        "    image (numpy array) -- input image\n",
        "    annotation (numpy array) -- ground truth label map\n",
        "\n",
        "  Returns:\n",
        "    preprocessed image-annotation pair\n",
        "  '''\n",
        "\n",
        "  image = tf.cast(image, dtype=tf.float32)\n",
        "  image = tf.reshape(image, (image.shape[0], image.shape[1], 1,))\n",
        "  annotation = tf.cast(annotation, dtype=tf.int32)\n",
        "  image = image / 127.5\n",
        "  image -= 1\n",
        "\n",
        "  return image, annotation\n",
        "\n",
        "\n",
        "def get_training_dataset(images, annos):\n",
        "  '''\n",
        "  Prepares shuffled batches of the training set.\n",
        "  \n",
        "  Args:\n",
        "    images (list of strings) -- paths to each image file in the train set\n",
        "    annos (list of strings) -- paths to each label map in the train set\n",
        "\n",
        "  Returns:\n",
        "    tf Dataset containing the preprocessed train set\n",
        "  '''\n",
        "  training_dataset = tf.data.Dataset.from_tensor_slices((images, annos))\n",
        "  training_dataset = training_dataset.map(read_image_and_annotation)\n",
        "\n",
        "  training_dataset = training_dataset.shuffle(512, reshuffle_each_iteration=True)\n",
        "  training_dataset = training_dataset.batch(BATCH_SIZE)\n",
        "  training_dataset = training_dataset.repeat()\n",
        "  training_dataset = training_dataset.prefetch(-1)\n",
        "\n",
        "  return training_dataset\n",
        "\n",
        "\n",
        "def get_validation_dataset(images, annos):\n",
        "  '''\n",
        "  Prepares batches of the validation set.\n",
        "  \n",
        "  Args:\n",
        "    images (list of strings) -- paths to each image file in the val set\n",
        "    annos (list of strings) -- paths to each label map in the val set\n",
        "\n",
        "  Returns:\n",
        "    tf Dataset containing the preprocessed validation set\n",
        "  '''\n",
        "  validation_dataset = tf.data.Dataset.from_tensor_slices((images, annos))\n",
        "  validation_dataset = validation_dataset.map(read_image_and_annotation)\n",
        "  validation_dataset = validation_dataset.batch(BATCH_SIZE)\n",
        "  validation_dataset = validation_dataset.repeat()\n",
        "\n",
        "  return validation_dataset\n",
        "\n",
        "\n",
        "def get_test_dataset(images, annos):\n",
        "  '''\n",
        "  Prepares batches of the test set.\n",
        "  \n",
        "  Args:\n",
        "    images (list of strings) -- paths to each image file in the test set\n",
        "    annos (list of strings) -- paths to each label map in the test set\n",
        "\n",
        "  Returns:\n",
        "    tf Dataset containing the preprocessed validation set\n",
        "  '''\n",
        "  test_dataset = tf.data.Dataset.from_tensor_slices((images, annos))\n",
        "  test_dataset = test_dataset.map(read_image_and_annotation)\n",
        "  test_dataset = test_dataset.batch(BATCH_SIZE, drop_remainder=True)\n",
        "\n",
        "  return test_dataset\n",
        "\n",
        "\n",
        "# Create training, validation, test datasets.\n",
        "training_dataset = get_training_dataset(train_slices[0], train_slices[1])\n",
        "validation_dataset = get_validation_dataset(val_slices[0], val_slices[1])\n",
        "test_dataset = get_test_dataset(test_slices[0], test_slices[1])"
      ],
      "metadata": {
        "id": "ScBztsMurVuF"
      },
      "execution_count": 4,
      "outputs": []
    },
    {
      "cell_type": "markdown",
      "source": [
        "## Check the Dataset\n",
        "using visualization Utilites, inspect the dataset."
      ],
      "metadata": {
        "id": "mfvZSN9fsqit"
      }
    },
    {
      "cell_type": "code",
      "source": [
        "#### Visualization Utilities\n",
        "\n",
        "# there are 11 classes in the dataset: one class for each digit (0 to 9) plus the background class\n",
        "n_classes = 11\n",
        "\n",
        "# assign a random color for each class\n",
        "colors = [tuple(np.random.randint(256, size=3) / 255.0) for i in range(n_classes)]\n",
        "\n",
        "def fuse_with_pil(images):\n",
        "  '''\n",
        "  Creates a blank image and pastes input images\n",
        "\n",
        "  Args:\n",
        "    images (list of numpy arrays) - numpy array representations of the images to paste\n",
        "  \n",
        "  Returns:\n",
        "    PIL Image object containing the images\n",
        "  '''\n",
        "\n",
        "  widths = (image.shape[1] for image in images)\n",
        "  heights = (image.shape[0] for image in images)\n",
        "  total_width = sum(widths)\n",
        "  max_height = max(heights)\n",
        "\n",
        "  new_im = PIL.Image.new('RGB', (total_width, max_height))\n",
        "\n",
        "  x_offset = 0\n",
        "  for im in images:\n",
        "    pil_image = PIL.Image.fromarray(np.uint8(im))\n",
        "    new_im.paste(pil_image, (x_offset,0))\n",
        "    x_offset += im.shape[1]\n",
        "  \n",
        "  return new_im\n",
        "\n",
        "\n",
        "def give_color_to_annotation(annotation):\n",
        "  '''\n",
        "  Converts a 2-D annotation to a numpy array with shape (height, width, 3) where\n",
        "  the third axis represents the color channel. The label values are multiplied by\n",
        "  255 and placed in this axis to give color to the annotation\n",
        "\n",
        "  Args:\n",
        "    annotation (numpy array) - label map array\n",
        "  \n",
        "  Returns:\n",
        "    the annotation array with an additional color channel/axis\n",
        "  '''\n",
        "  seg_img = np.zeros( (annotation.shape[0],annotation.shape[1], 3) ).astype('float')\n",
        "  \n",
        "  for c in range(n_classes):\n",
        "    segc = (annotation == c)\n",
        "    seg_img[:,:,0] += segc*( colors[c][0] * 255.0)\n",
        "    seg_img[:,:,1] += segc*( colors[c][1] * 255.0)\n",
        "    seg_img[:,:,2] += segc*( colors[c][2] * 255.0)\n",
        "  \n",
        "  return seg_img\n",
        "\n",
        "\n",
        "def show_annotation_and_prediction(image, annotation, prediction, iou_list, dice_score_list):\n",
        "  '''\n",
        "  Displays the images with the ground truth and predicted label maps. Also overlays the metrics.\n",
        "\n",
        "  Args:\n",
        "    image (numpy array) -- the input image\n",
        "    annotation (numpy array) -- the ground truth label map\n",
        "    prediction (numpy array) -- the predicted label map\n",
        "    iou_list (list of floats) -- the IOU values for each class\n",
        "    dice_score_list (list of floats) -- the Dice Score for each class\n",
        "  '''\n",
        "\n",
        "  new_ann = np.argmax(annotation, axis=2)\n",
        "  true_img = give_color_to_annotation(new_ann)\n",
        "  pred_img = give_color_to_annotation(prediction)\n",
        "\n",
        "  image = image + 1\n",
        "  image = image * 127.5\n",
        "  image = np.reshape(image, (image.shape[0], image.shape[1],))\n",
        "  image = np.uint8(image)\n",
        "  images = [image, np.uint8(pred_img), np.uint8(true_img)]\n",
        "\n",
        "  metrics_by_id = [(idx, iou, dice_score) for idx, (iou, dice_score) in enumerate(zip(iou_list, dice_score_list)) if iou > 0.0 and idx < 10]\n",
        "  metrics_by_id.sort(key=lambda tup: tup[1], reverse=True)  # sorts in place\n",
        "\n",
        "  display_string_list = [\"{}: IOU: {} Dice Score: {}\".format(idx, iou, dice_score) for idx, iou, dice_score in metrics_by_id]\n",
        "  display_string = \"\\n\".join(display_string_list)\n",
        "\n",
        "  plt.figure(figsize=(15, 4))\n",
        "\n",
        "  for idx, im in enumerate(images):\n",
        "    plt.subplot(1, 3, idx+1)\n",
        "    if idx == 1:\n",
        "      plt.xlabel(display_string)\n",
        "    plt.xticks([])\n",
        "    plt.yticks([])\n",
        "    plt.imshow(im)\n",
        "\n",
        "\n",
        "def show_annotation_and_image(image, annotation):\n",
        "  '''\n",
        "  Displays the image and its annotation side by side\n",
        "\n",
        "  Args:\n",
        "    image (numpy array) -- the input image\n",
        "    annotation (numpy array) -- the label map\n",
        "  '''\n",
        "  new_ann = np.argmax(annotation, axis=2)\n",
        "  seg_img = give_color_to_annotation(new_ann)\n",
        "  \n",
        "  image = image + 1\n",
        "  image = image * 127.5\n",
        "  image = np.reshape(image, (image.shape[0], image.shape[1],))\n",
        "\n",
        "  image = np.uint8(image)\n",
        "  images = [image, seg_img]\n",
        "  \n",
        "  images = [image, seg_img]\n",
        "  fused_img = fuse_with_pil(images)\n",
        "  plt.imshow(fused_img)\n",
        "\n",
        "\n",
        "def list_show_annotation(dataset, num_images):\n",
        "  '''\n",
        "  Displays images and its annotations side by side\n",
        "\n",
        "  Args:\n",
        "    dataset (tf Dataset) -- batch of images and annotations\n",
        "    num_images (int) -- number of images to display\n",
        "  '''\n",
        "  ds = dataset.unbatch()\n",
        "\n",
        "  plt.figure(figsize=(20, 15))\n",
        "  plt.title(\"Images And Annotations\")\n",
        "  plt.subplots_adjust(bottom=0.1, top=0.9, hspace=0.05)\n",
        "\n",
        "  for idx, (image, annotation) in enumerate(ds.take(num_images)):\n",
        "    plt.subplot(5, 5, idx + 1)\n",
        "    plt.yticks([])\n",
        "    plt.xticks([])\n",
        "    show_annotation_and_image(image.numpy(), annotation.numpy())"
      ],
      "metadata": {
        "id": "42nMQNUjsxvX"
      },
      "execution_count": 5,
      "outputs": []
    },
    {
      "cell_type": "code",
      "source": [
        "# get 10 images from the training set\n",
        "list_show_annotation(training_dataset, 10)\n",
        "\n",
        "# get 10 images from the validation set\n",
        "list_show_annotation(validation_dataset, 10)"
      ],
      "metadata": {
        "colab": {
          "base_uri": "https://localhost:8080/",
          "height": 547
        },
        "id": "834t5i4ytIu2",
        "outputId": "dc9cf165-5c23-42f6-97a3-aa1faf8e51cb"
      },
      "execution_count": 6,
      "outputs": [
        {
          "output_type": "display_data",
          "data": {
            "text/plain": [
              "<Figure size 1440x1080 with 10 Axes>"
            ],
            "image/png": "[encoded data removed]"
          },
          "metadata": {}
        },
        {
          "output_type": "display_data",
          "data": {
            "text/plain": [
              "<Figure size 1440x1080 with 10 Axes>"
            ],
            "image/png": "[encoded data removed]"
          },
          "metadata": {}
        }
      ]
    },
    {
      "cell_type": "markdown",
      "source": [
        "## Define the Model\n",
        "\n",
        "<img src='https://drive.google.com/uc?export=view&id=1lrqB4YegV8jXWNfyYAaeuFlwXIc54aRP' alt='fcn-8'>\n",
        "\n",
        "Image segmentation model will have two paths.\n",
        "\n",
        "- **Downsampling Path** - This part of the network extracts the features in the image. This is done through a series of convolution and pooling layers. The final output is a reduced image (because of the pooling layers) with the extracted features.\n",
        "\n",
        "- **Upsampling Path** - This takes the output of the downsampling path and generates the predictions while also converting the image back to its original size. I will use an FCN-8 decoder for this path."
      ],
      "metadata": {
        "id": "SSw_O5YNtSu5"
      }
    },
    {
      "cell_type": "markdown",
      "source": [
        "### Define The Basic Convolution Block\n",
        "\n",
        "Defined the building block of encoder.\n",
        "\n",
        "Input -> Conv2D -> LeakyReLU -> Conv2D -> LeakyReLU -> maxPooling2D -> BatchNormalization\n",
        "\n",
        "**Conv2D** : data_format='channels_last' is (batch_size, height, width, channels) "
      ],
      "metadata": {
        "id": "dnIAydjvuiMs"
      }
    },
    {
      "cell_type": "code",
      "source": [
        "def conv_block(input, filters, kernel_size, pooling_size, pool_strides):\n",
        "  '''\n",
        "  Args:\n",
        "    input (tensor) -- batch of images or features\n",
        "    filters (int) -- number of filters of the Conv2D layers\n",
        "    kernel_size (int) -- kernel_size setting of the Conv2D layers\n",
        "    pooling_size (int) -- pooling size of the MaxPooling2D layers\n",
        "    pool_strides (int) -- strides setting of the MaxPooling2D layers\n",
        "  \n",
        "  Returns:\n",
        "    (tensor) max pooled and batch-normalized features of the input \n",
        "  '''\n",
        "  \n",
        "  x = tf.keras.layers.Conv2D(filters, kernel_size, padding='same', data_format='channels_last')(input)\n",
        "  x = tf.keras.layers.LeakyReLU()(x)\n",
        "  x = tf.keras.layers.Conv2D(filters, kernel_size, padding='same', data_format='channels_last')(x)\n",
        "  x = tf.keras.layers.LeakyReLU()(x)\n",
        "  x = tf.keras.layers.MaxPooling2D(pooling_size, pool_strides)(x)\n",
        "  x = tf.keras.layers.BatchNormalization()(x)\n",
        "\n",
        "  return x"
      ],
      "metadata": {
        "id": "XOrAEuq_t-TI"
      },
      "execution_count": 7,
      "outputs": []
    },
    {
      "cell_type": "code",
      "source": [
        "#### TEST CODE:\n",
        "\n",
        "test_input = tf.keras.layers.Input(shape=(64,84, 1))\n",
        "test_output = conv_block(test_input, 32, 3, 2, 2)\n",
        "test_model = tf.keras.Model(inputs=test_input, outputs=test_output)\n",
        "\n",
        "print(test_model.summary())\n",
        "\n",
        "# free up test resources\n",
        "del test_input, test_output, test_model"
      ],
      "metadata": {
        "colab": {
          "base_uri": "https://localhost:8080/"
        },
        "id": "eJlcx8Jiuh8-",
        "outputId": "eae3724b-c7e8-42a2-ada8-d777ae648847"
      },
      "execution_count": 8,
      "outputs": [
        {
          "output_type": "stream",
          "name": "stdout",
          "text": [
            "Model: \"model\"\n",
            "_________________________________________________________________\n",
            " Layer (type)                Output Shape              Param #   \n",
            "=================================================================\n",
            " input_1 (InputLayer)        [(None, 64, 84, 1)]       0         \n",
            "                                                                 \n",
            " conv2d (Conv2D)             (None, 64, 84, 32)        320       \n",
            "                                                                 \n",
            " leaky_re_lu (LeakyReLU)     (None, 64, 84, 32)        0         \n",
            "                                                                 \n",
            " conv2d_1 (Conv2D)           (None, 64, 84, 32)        9248      \n",
            "                                                                 \n",
            " leaky_re_lu_1 (LeakyReLU)   (None, 64, 84, 32)        0         \n",
            "                                                                 \n",
            " max_pooling2d (MaxPooling2D  (None, 32, 42, 32)       0         \n",
            " )                                                               \n",
            "                                                                 \n",
            " batch_normalization (BatchN  (None, 32, 42, 32)       128       \n",
            " ormalization)                                                   \n",
            "                                                                 \n",
            "=================================================================\n",
            "Total params: 9,696\n",
            "Trainable params: 9,632\n",
            "Non-trainable params: 64\n",
            "_________________________________________________________________\n",
            "None\n"
          ]
        }
      ]
    },
    {
      "cell_type": "markdown",
      "source": [
        "### Define The Downsampling Path\n",
        "\n"
      ],
      "metadata": {
        "id": "aDSZjfGGvs5c"
      }
    },
    {
      "cell_type": "code",
      "source": [
        "def FCN8(input_height=64, input_width=84):\n",
        "    '''\n",
        "    Defines the downsampling path of the image segmentation model.\n",
        "\n",
        "    Args:\n",
        "      input_height (int) -- height of the images\n",
        "      width (int) -- width of the images\n",
        "\n",
        "    Returns:\n",
        "    (tuple of tensors, tensor)\n",
        "      tuple of tensors -- features extracted at blocks 3 to 5\n",
        "      tensor -- copy of the input\n",
        "    '''\n",
        "   \n",
        "    img_input = tf.keras.layers.Input(shape=(input_height,input_width, 1))\n",
        "    x = tf.keras.layers.ZeroPadding2D(((0, 0), (0, 96-input_width)))(img_input) # pad the input image width to 96 pixels\n",
        "    \n",
        "    # Block 1\n",
        "    x = conv_block(x, 32, 2, 2, 2)\n",
        "    \n",
        "    # Block 2\n",
        "    x = conv_block(x, 64, 2, 2, 2)\n",
        "\n",
        "    # Block 3\n",
        "    x = conv_block(x, 128, 2, 2, 2)\n",
        "    f3 = x # save the feature map at this stage\n",
        "\n",
        "    # Block 4\n",
        "    x = conv_block(x, 256, 2, 2, 2)\n",
        "    f4 = x # save the feature map at this stage\n",
        "\n",
        "    # Block 5\n",
        "    x = conv_block(x, 256, 2, 2, 2)\n",
        "    f5 = x # save the feature map at this stage\n",
        "  \n",
        "    return (f3, f4, f5), img_input"
      ],
      "metadata": {
        "id": "pha-gz30wqTm"
      },
      "execution_count": 9,
      "outputs": []
    },
    {
      "cell_type": "code",
      "source": [
        "#### TEST CODE:\n",
        "\n",
        "test_convs, test_img_input = FCN8()\n",
        "test_model = tf.keras.Model(inputs=test_img_input, outputs=[test_convs, test_img_input])\n",
        "\n",
        "print(test_model.summary())\n",
        "\n",
        "del test_convs, test_img_input, test_model"
      ],
      "metadata": {
        "colab": {
          "base_uri": "https://localhost:8080/"
        },
        "id": "BxfasO8-w8XD",
        "outputId": "b37dceee-7dcd-40c6-a8eb-a41a9f8d0dd0"
      },
      "execution_count": 10,
      "outputs": [
        {
          "output_type": "stream",
          "name": "stdout",
          "text": [
            "Model: \"model_1\"\n",
            "_________________________________________________________________\n",
            " Layer (type)                Output Shape              Param #   \n",
            "=================================================================\n",
            " input_2 (InputLayer)        [(None, 64, 84, 1)]       0         \n",
            "                                                                 \n",
            " zero_padding2d (ZeroPadding  (None, 64, 96, 1)        0         \n",
            " 2D)                                                             \n",
            "                                                                 \n",
            " conv2d_2 (Conv2D)           (None, 64, 96, 32)        160       \n",
            "                                                                 \n",
            " leaky_re_lu_2 (LeakyReLU)   (None, 64, 96, 32)        0         \n",
            "                                                                 \n",
            " conv2d_3 (Conv2D)           (None, 64, 96, 32)        4128      \n",
            "                                                                 \n",
            " leaky_re_lu_3 (LeakyReLU)   (None, 64, 96, 32)        0         \n",
            "                                                                 \n",
            " max_pooling2d_1 (MaxPooling  (None, 32, 48, 32)       0         \n",
            " 2D)                                                             \n",
            "                                                                 \n",
            " batch_normalization_1 (Batc  (None, 32, 48, 32)       128       \n",
            " hNormalization)                                                 \n",
            "                                                                 \n",
            " conv2d_4 (Conv2D)           (None, 32, 48, 64)        8256      \n",
            "                                                                 \n",
            " leaky_re_lu_4 (LeakyReLU)   (None, 32, 48, 64)        0         \n",
            "                                                                 \n",
            " conv2d_5 (Conv2D)           (None, 32, 48, 64)        16448     \n",
            "                                                                 \n",
            " leaky_re_lu_5 (LeakyReLU)   (None, 32, 48, 64)        0         \n",
            "                                                                 \n",
            " max_pooling2d_2 (MaxPooling  (None, 16, 24, 64)       0         \n",
            " 2D)                                                             \n",
            "                                                                 \n",
            " batch_normalization_2 (Batc  (None, 16, 24, 64)       256       \n",
            " hNormalization)                                                 \n",
            "                                                                 \n",
            " conv2d_6 (Conv2D)           (None, 16, 24, 128)       32896     \n",
            "                                                                 \n",
            " leaky_re_lu_6 (LeakyReLU)   (None, 16, 24, 128)       0         \n",
            "                                                                 \n",
            " conv2d_7 (Conv2D)           (None, 16, 24, 128)       65664     \n",
            "                                                                 \n",
            " leaky_re_lu_7 (LeakyReLU)   (None, 16, 24, 128)       0         \n",
            "                                                                 \n",
            " max_pooling2d_3 (MaxPooling  (None, 8, 12, 128)       0         \n",
            " 2D)                                                             \n",
            "                                                                 \n",
            " batch_normalization_3 (Batc  (None, 8, 12, 128)       512       \n",
            " hNormalization)                                                 \n",
            "                                                                 \n",
            " conv2d_8 (Conv2D)           (None, 8, 12, 256)        131328    \n",
            "                                                                 \n",
            " leaky_re_lu_8 (LeakyReLU)   (None, 8, 12, 256)        0         \n",
            "                                                                 \n",
            " conv2d_9 (Conv2D)           (None, 8, 12, 256)        262400    \n",
            "                                                                 \n",
            " leaky_re_lu_9 (LeakyReLU)   (None, 8, 12, 256)        0         \n",
            "                                                                 \n",
            " max_pooling2d_4 (MaxPooling  (None, 4, 6, 256)        0         \n",
            " 2D)                                                             \n",
            "                                                                 \n",
            " batch_normalization_4 (Batc  (None, 4, 6, 256)        1024      \n",
            " hNormalization)                                                 \n",
            "                                                                 \n",
            " conv2d_10 (Conv2D)          (None, 4, 6, 256)         262400    \n",
            "                                                                 \n",
            " leaky_re_lu_10 (LeakyReLU)  (None, 4, 6, 256)         0         \n",
            "                                                                 \n",
            " conv2d_11 (Conv2D)          (None, 4, 6, 256)         262400    \n",
            "                                                                 \n",
            " leaky_re_lu_11 (LeakyReLU)  (None, 4, 6, 256)         0         \n",
            "                                                                 \n",
            " max_pooling2d_5 (MaxPooling  (None, 2, 3, 256)        0         \n",
            " 2D)                                                             \n",
            "                                                                 \n",
            " batch_normalization_5 (Batc  (None, 2, 3, 256)        1024      \n",
            " hNormalization)                                                 \n",
            "                                                                 \n",
            "=================================================================\n",
            "Total params: 1,049,024\n",
            "Trainable params: 1,047,552\n",
            "Non-trainable params: 1,472\n",
            "_________________________________________________________________\n",
            "None\n"
          ]
        }
      ]
    },
    {
      "cell_type": "markdown",
      "source": [
        "#### Define The Upsampling Path\n",
        "\n"
      ],
      "metadata": {
        "id": "OFCkD74Ew_mg"
      }
    },
    {
      "cell_type": "code",
      "source": [
        "def fcn8_decoder(convs, n_classes):\n",
        "\n",
        "  f3, f4, f5 = convs # features from the encoder stage\n",
        "  n = 512 # number of filters\n",
        "\n",
        "  # add convolutional layers on top of the CNN extractor.\n",
        "  o = tf.keras.layers.Conv2D(n, (7,7), activation='relu' , padding='same', name=\"conv6\", data_format='channels_last')(f5)\n",
        "  o = tf.keras.layers.Dropout(0.5)(o)\n",
        "\n",
        "  o = tf.keras.layers.Conv2D(n, (1,1), activation='relu' , padding='same', name=\"conv7\", data_format='channels_last')(o)\n",
        "  o = tf.keras.layers.Dropout(0.5)(o)\n",
        "\n",
        "  o = tf.keras.layers.Conv2D(n_classes, (1,1), activation='relu' , padding='same', data_format='channels_last')(o)\n",
        "\n",
        "  # Upsample `o` above and crop any extra pixels introduced\n",
        "  o = tf.keras.layers.Conv2DTranspose(n_classes , kernel_size=(4,4) ,  strides=(2,2))(o)\n",
        "  o = tf.keras.layers.Cropping2D(cropping=(1,1))(o)\n",
        "\n",
        "  # load the pool 4 prediction and do a 1x1 convolution to reshape it to the same shape of `o` above\n",
        "  o2 = f4\n",
        "  o2 = tf.keras.layers.Conv2D(n_classes, (1,1), activation='relu', padding='same')(o2)\n",
        "\n",
        "  # add the results of the upsampling and pool 4 prediction\n",
        "  o = tf.keras.layers.Add()([o, o2])\n",
        "\n",
        "  # upsample the resulting tensor of the operation you just did\n",
        "  o = tf.keras.layers.Conv2DTranspose(n_classes , kernel_size=(4,4) ,  strides=(2,2))(o)\n",
        "  o = tf.keras.layers.Cropping2D(cropping=(1,1))(o)\n",
        "\n",
        "  # load the pool 3 prediction and do a 1x1 convolution to reshape it to the same shape of `o` above\n",
        "  o2 = f3\n",
        "  o2 = tf.keras.layers.Conv2D(n_classes, (1,1) , activation='relu' , padding='same', data_format='channels_last')(o2)\n",
        "\n",
        "  # add the results of the upsampling and pool 3 prediction\n",
        "  o = tf.keras.layers.Add()([o, o2])\n",
        "\n",
        "  # upsample up to the size of the original image\n",
        "  o = tf.keras.layers.Conv2DTranspose(n_classes , kernel_size=(8,8) ,  strides=(8,8))(o)\n",
        "  o = tf.keras.layers.Cropping2D(((0, 0), (0, 96-84)))(o)\n",
        "\n",
        "  # append a sigmoid activation\n",
        "  o = (tf.keras.layers.Activation('sigmoid'))(o)\n",
        "\n",
        "  return o"
      ],
      "metadata": {
        "id": "WtWZM2ye1UI5"
      },
      "execution_count": 11,
      "outputs": []
    },
    {
      "cell_type": "code",
      "source": [
        "#### TEST CODE\n",
        "\n",
        "test_convs, test_img_input = FCN8()\n",
        "test_fcn8_decoder = fcn8_decoder(test_convs, 11)\n",
        "\n",
        "print(test_fcn8_decoder.shape)\n",
        "\n",
        "del test_convs, test_img_input, test_fcn8_decoder"
      ],
      "metadata": {
        "colab": {
          "base_uri": "https://localhost:8080/"
        },
        "id": "qBNI4ZOt1vS1",
        "outputId": "6146e109-8785-4baf-8818-aaddc14f43c0"
      },
      "execution_count": 12,
      "outputs": [
        {
          "output_type": "stream",
          "name": "stdout",
          "text": [
            "(None, 64, 84, 11)\n"
          ]
        }
      ]
    },
    {
      "cell_type": "markdown",
      "source": [
        "### Define The Complete Model\n",
        "-> downsampling and upsampling paths"
      ],
      "metadata": {
        "id": "iw1TpwmV16MY"
      }
    },
    {
      "cell_type": "code",
      "source": [
        "# start the encoder using the default input size 64 x 84\n",
        "convs, img_input = FCN8()\n",
        "\n",
        "# pass the convolutions obtained in the encoder to the decoder\n",
        "dec_op = fcn8_decoder(convs, n_classes)\n",
        "\n",
        "# define the model specifying the input (batch of images) and output (decoder output)\n",
        "model = tf.keras.Model(inputs = img_input, outputs = dec_op)"
      ],
      "metadata": {
        "id": "NPesl67P2BnN"
      },
      "execution_count": 13,
      "outputs": []
    },
    {
      "cell_type": "markdown",
      "source": [
        "## Compile The Model"
      ],
      "metadata": {
        "id": "S8ZaJppE2WRJ"
      }
    },
    {
      "cell_type": "code",
      "source": [
        "model.compile(loss='categorical_crossentropy', optimizer=tf.keras.optimizers.Adam(learning_rate=1E-2), metrics=['accuracy'])"
      ],
      "metadata": {
        "id": "sHcegef92bGS"
      },
      "execution_count": 14,
      "outputs": []
    },
    {
      "cell_type": "markdown",
      "source": [
        "## Model Training"
      ],
      "metadata": {
        "id": "ZoN0nbBQ2kV1"
      }
    },
    {
      "cell_type": "code",
      "source": [
        "EPOCHS = 70\n",
        "steps_per_epoch = 4000//BATCH_SIZE\n",
        "validation_steps = 800//BATCH_SIZE\n",
        "test_steps = 200//BATCH_SIZE\n",
        "\n",
        "history = model.fit(training_dataset, steps_per_epoch=steps_per_epoch, validation_data=validation_dataset, validation_steps=validation_steps, epochs=EPOCHS)"
      ],
      "metadata": {
        "colab": {
          "base_uri": "https://localhost:8080/"
        },
        "id": "HX7gikfs2m7F",
        "outputId": "12e89f94-c8c2-452a-8bf9-e96162965489"
      },
      "execution_count": 15,
      "outputs": [
        {
          "output_type": "stream",
          "name": "stdout",
          "text": [
            "Epoch 1/70\n",
            "125/125 [==============================] - 21s 51ms/step - loss: 0.2711 - accuracy: 0.9302 - val_loss: 0.2796 - val_accuracy: 0.9425\n",
            "Epoch 2/70\n",
            "125/125 [==============================] - 6s 45ms/step - loss: 0.1564 - accuracy: 0.9469 - val_loss: 0.1649 - val_accuracy: 0.9485\n",
            "Epoch 3/70\n",
            "125/125 [==============================] - 6s 45ms/step - loss: 0.1235 - accuracy: 0.9561 - val_loss: 0.1347 - val_accuracy: 0.9577\n",
            "Epoch 4/70\n",
            "125/125 [==============================] - 6s 46ms/step - loss: 0.0972 - accuracy: 0.9656 - val_loss: 0.1058 - val_accuracy: 0.9648\n",
            "Epoch 5/70\n",
            "125/125 [==============================] - 5s 44ms/step - loss: 0.0755 - accuracy: 0.9723 - val_loss: 0.0841 - val_accuracy: 0.9716\n",
            "Epoch 6/70\n",
            "125/125 [==============================] - 5s 44ms/step - loss: 0.0651 - accuracy: 0.9755 - val_loss: 0.0987 - val_accuracy: 0.9665\n",
            "Epoch 7/70\n",
            "125/125 [==============================] - 5s 43ms/step - loss: 0.0583 - accuracy: 0.9774 - val_loss: 0.0922 - val_accuracy: 0.9674\n",
            "Epoch 8/70\n",
            "125/125 [==============================] - 6s 44ms/step - loss: 0.0548 - accuracy: 0.9787 - val_loss: 0.0726 - val_accuracy: 0.9753\n",
            "Epoch 9/70\n",
            "125/125 [==============================] - 6s 44ms/step - loss: 0.0498 - accuracy: 0.9806 - val_loss: 0.0786 - val_accuracy: 0.9731\n",
            "Epoch 10/70\n",
            "125/125 [==============================] - 6s 44ms/step - loss: 0.0466 - accuracy: 0.9819 - val_loss: 0.0634 - val_accuracy: 0.9775\n",
            "Epoch 11/70\n",
            "125/125 [==============================] - 6s 45ms/step - loss: 0.0428 - accuracy: 0.9834 - val_loss: 0.0569 - val_accuracy: 0.9787\n",
            "Epoch 12/70\n",
            "125/125 [==============================] - 6s 44ms/step - loss: 0.0411 - accuracy: 0.9841 - val_loss: 0.0662 - val_accuracy: 0.9767\n",
            "Epoch 13/70\n",
            "125/125 [==============================] - 6s 45ms/step - loss: 0.0395 - accuracy: 0.9848 - val_loss: 0.0853 - val_accuracy: 0.9716\n",
            "Epoch 14/70\n",
            "125/125 [==============================] - 6s 45ms/step - loss: 0.0374 - accuracy: 0.9855 - val_loss: 0.0725 - val_accuracy: 0.9785\n",
            "Epoch 15/70\n",
            "125/125 [==============================] - 6s 45ms/step - loss: 0.0364 - accuracy: 0.9858 - val_loss: 0.0499 - val_accuracy: 0.9820\n",
            "Epoch 16/70\n",
            "125/125 [==============================] - 6s 45ms/step - loss: 0.0342 - accuracy: 0.9867 - val_loss: 0.0470 - val_accuracy: 0.9831\n",
            "Epoch 17/70\n",
            "125/125 [==============================] - 6s 47ms/step - loss: 0.0326 - accuracy: 0.9873 - val_loss: 0.0667 - val_accuracy: 0.9765\n",
            "Epoch 18/70\n",
            "125/125 [==============================] - 6s 47ms/step - loss: 0.0331 - accuracy: 0.9872 - val_loss: 0.0443 - val_accuracy: 0.9838\n",
            "Epoch 19/70\n",
            "125/125 [==============================] - 6s 46ms/step - loss: 0.0316 - accuracy: 0.9877 - val_loss: 0.0494 - val_accuracy: 0.9838\n",
            "Epoch 20/70\n",
            "125/125 [==============================] - 6s 45ms/step - loss: 0.0298 - accuracy: 0.9884 - val_loss: 0.0462 - val_accuracy: 0.9849\n",
            "Epoch 21/70\n",
            "125/125 [==============================] - 6s 46ms/step - loss: 0.0317 - accuracy: 0.9877 - val_loss: 0.0552 - val_accuracy: 0.9825\n",
            "Epoch 22/70\n",
            "125/125 [==============================] - 6s 45ms/step - loss: 0.0308 - accuracy: 0.9881 - val_loss: 0.0469 - val_accuracy: 0.9828\n",
            "Epoch 23/70\n",
            "125/125 [==============================] - 6s 47ms/step - loss: 0.0282 - accuracy: 0.9890 - val_loss: 0.0426 - val_accuracy: 0.9852\n",
            "Epoch 24/70\n",
            "125/125 [==============================] - 6s 47ms/step - loss: 0.0282 - accuracy: 0.9891 - val_loss: 0.0507 - val_accuracy: 0.9818\n",
            "Epoch 25/70\n",
            "125/125 [==============================] - 6s 47ms/step - loss: 0.0276 - accuracy: 0.9893 - val_loss: 0.0389 - val_accuracy: 0.9856\n",
            "Epoch 26/70\n",
            "125/125 [==============================] - 6s 45ms/step - loss: 0.0262 - accuracy: 0.9898 - val_loss: 0.0563 - val_accuracy: 0.9802\n",
            "Epoch 27/70\n",
            "125/125 [==============================] - 6s 48ms/step - loss: 0.0283 - accuracy: 0.9891 - val_loss: 0.0650 - val_accuracy: 0.9816\n",
            "Epoch 28/70\n",
            "125/125 [==============================] - 6s 46ms/step - loss: 0.0269 - accuracy: 0.9896 - val_loss: 0.0611 - val_accuracy: 0.9790\n",
            "Epoch 29/70\n",
            "125/125 [==============================] - 6s 45ms/step - loss: 0.0260 - accuracy: 0.9899 - val_loss: 0.0550 - val_accuracy: 0.9839\n",
            "Epoch 30/70\n",
            "125/125 [==============================] - 6s 44ms/step - loss: 0.0260 - accuracy: 0.9900 - val_loss: 0.0353 - val_accuracy: 0.9874\n",
            "Epoch 31/70\n",
            "125/125 [==============================] - 6s 45ms/step - loss: 0.0260 - accuracy: 0.9900 - val_loss: 0.0398 - val_accuracy: 0.9869\n",
            "Epoch 32/70\n",
            "125/125 [==============================] - 6s 45ms/step - loss: 0.0240 - accuracy: 0.9907 - val_loss: 0.0325 - val_accuracy: 0.9885\n",
            "Epoch 33/70\n",
            "125/125 [==============================] - 6s 45ms/step - loss: 0.0231 - accuracy: 0.9910 - val_loss: 0.0341 - val_accuracy: 0.9877\n",
            "Epoch 34/70\n",
            "125/125 [==============================] - 6s 47ms/step - loss: 0.0230 - accuracy: 0.9911 - val_loss: 0.0342 - val_accuracy: 0.9883\n",
            "Epoch 35/70\n",
            "125/125 [==============================] - 6s 45ms/step - loss: 0.0228 - accuracy: 0.9911 - val_loss: 0.0421 - val_accuracy: 0.9851\n",
            "Epoch 36/70\n",
            "125/125 [==============================] - 6s 47ms/step - loss: 0.0228 - accuracy: 0.9911 - val_loss: 0.0397 - val_accuracy: 0.9875\n",
            "Epoch 37/70\n",
            "125/125 [==============================] - 6s 45ms/step - loss: 0.0235 - accuracy: 0.9909 - val_loss: 0.0399 - val_accuracy: 0.9870\n",
            "Epoch 38/70\n",
            "125/125 [==============================] - 6s 48ms/step - loss: 0.0292 - accuracy: 0.9890 - val_loss: 0.0900 - val_accuracy: 0.9801\n",
            "Epoch 39/70\n",
            "125/125 [==============================] - 6s 47ms/step - loss: 0.0292 - accuracy: 0.9890 - val_loss: 0.0446 - val_accuracy: 0.9846\n",
            "Epoch 40/70\n",
            "125/125 [==============================] - 6s 45ms/step - loss: 0.0232 - accuracy: 0.9910 - val_loss: 0.0353 - val_accuracy: 0.9882\n",
            "Epoch 41/70\n",
            "125/125 [==============================] - 6s 45ms/step - loss: 0.0221 - accuracy: 0.9914 - val_loss: 0.0322 - val_accuracy: 0.9889\n",
            "Epoch 42/70\n",
            "125/125 [==============================] - 6s 45ms/step - loss: 0.0216 - accuracy: 0.9916 - val_loss: 0.0306 - val_accuracy: 0.9892\n",
            "Epoch 43/70\n",
            "125/125 [==============================] - 6s 45ms/step - loss: 0.0219 - accuracy: 0.9916 - val_loss: 0.0410 - val_accuracy: 0.9869\n",
            "Epoch 44/70\n",
            "125/125 [==============================] - 6s 45ms/step - loss: 0.0224 - accuracy: 0.9913 - val_loss: 0.0421 - val_accuracy: 0.9867\n",
            "Epoch 45/70\n",
            "125/125 [==============================] - 6s 45ms/step - loss: 0.0254 - accuracy: 0.9904 - val_loss: 0.0531 - val_accuracy: 0.9821\n",
            "Epoch 46/70\n",
            "125/125 [==============================] - 6s 45ms/step - loss: 0.0243 - accuracy: 0.9907 - val_loss: 0.0460 - val_accuracy: 0.9862\n",
            "Epoch 47/70\n",
            "125/125 [==============================] - 6s 45ms/step - loss: 0.0213 - accuracy: 0.9917 - val_loss: 0.0365 - val_accuracy: 0.9872\n",
            "Epoch 48/70\n",
            "125/125 [==============================] - 6s 45ms/step - loss: 0.0202 - accuracy: 0.9922 - val_loss: 0.0380 - val_accuracy: 0.9867\n",
            "Epoch 49/70\n",
            "125/125 [==============================] - 6s 45ms/step - loss: 0.0198 - accuracy: 0.9923 - val_loss: 0.0306 - val_accuracy: 0.9895\n",
            "Epoch 50/70\n",
            "125/125 [==============================] - 7s 60ms/step - loss: 0.0199 - accuracy: 0.9923 - val_loss: 0.0758 - val_accuracy: 0.9819\n",
            "Epoch 51/70\n",
            "125/125 [==============================] - 6s 46ms/step - loss: 0.0200 - accuracy: 0.9922 - val_loss: 0.0323 - val_accuracy: 0.9891\n",
            "Epoch 52/70\n",
            "125/125 [==============================] - 6s 47ms/step - loss: 0.0198 - accuracy: 0.9923 - val_loss: 0.0375 - val_accuracy: 0.9878\n",
            "Epoch 53/70\n",
            "125/125 [==============================] - 6s 45ms/step - loss: 0.0202 - accuracy: 0.9922 - val_loss: 0.0353 - val_accuracy: 0.9883\n",
            "Epoch 54/70\n",
            "125/125 [==============================] - 6s 45ms/step - loss: 0.0222 - accuracy: 0.9915 - val_loss: 0.0371 - val_accuracy: 0.9885\n",
            "Epoch 55/70\n",
            "125/125 [==============================] - 6s 45ms/step - loss: 0.0208 - accuracy: 0.9920 - val_loss: 0.0667 - val_accuracy: 0.9785\n",
            "Epoch 56/70\n",
            "125/125 [==============================] - 6s 46ms/step - loss: 0.0193 - accuracy: 0.9925 - val_loss: 0.0377 - val_accuracy: 0.9885\n",
            "Epoch 57/70\n",
            "125/125 [==============================] - 6s 45ms/step - loss: 0.0188 - accuracy: 0.9927 - val_loss: 0.0322 - val_accuracy: 0.9891\n",
            "Epoch 58/70\n",
            "125/125 [==============================] - 6s 45ms/step - loss: 0.0192 - accuracy: 0.9925 - val_loss: 0.0412 - val_accuracy: 0.9863\n",
            "Epoch 59/70\n",
            "125/125 [==============================] - 6s 47ms/step - loss: 0.0200 - accuracy: 0.9923 - val_loss: 0.0356 - val_accuracy: 0.9887\n",
            "Epoch 60/70\n",
            "125/125 [==============================] - 7s 54ms/step - loss: 0.0250 - accuracy: 0.9908 - val_loss: 0.3316 - val_accuracy: 0.9657\n",
            "Epoch 61/70\n",
            "125/125 [==============================] - 7s 55ms/step - loss: 0.0288 - accuracy: 0.9894 - val_loss: 0.0463 - val_accuracy: 0.9860\n",
            "Epoch 62/70\n",
            "125/125 [==============================] - 6s 46ms/step - loss: 0.0222 - accuracy: 0.9915 - val_loss: 0.0335 - val_accuracy: 0.9887\n",
            "Epoch 63/70\n",
            "125/125 [==============================] - 6s 50ms/step - loss: 0.0199 - accuracy: 0.9923 - val_loss: 0.0351 - val_accuracy: 0.9876\n",
            "Epoch 64/70\n",
            "125/125 [==============================] - 6s 47ms/step - loss: 0.0182 - accuracy: 0.9929 - val_loss: 0.0348 - val_accuracy: 0.9876\n",
            "Epoch 65/70\n",
            "125/125 [==============================] - 7s 56ms/step - loss: 0.0178 - accuracy: 0.9930 - val_loss: 0.0301 - val_accuracy: 0.9899\n",
            "Epoch 66/70\n",
            "125/125 [==============================] - 6s 47ms/step - loss: 0.0179 - accuracy: 0.9930 - val_loss: 0.0288 - val_accuracy: 0.9901\n",
            "Epoch 67/70\n",
            "125/125 [==============================] - 6s 45ms/step - loss: 0.0177 - accuracy: 0.9931 - val_loss: 0.0289 - val_accuracy: 0.9900\n",
            "Epoch 68/70\n",
            "125/125 [==============================] - 6s 45ms/step - loss: 0.0179 - accuracy: 0.9931 - val_loss: 0.0300 - val_accuracy: 0.9901\n",
            "Epoch 69/70\n",
            "125/125 [==============================] - 6s 45ms/step - loss: 0.0173 - accuracy: 0.9933 - val_loss: 0.0316 - val_accuracy: 0.9899\n",
            "Epoch 70/70\n",
            "125/125 [==============================] - 6s 45ms/step - loss: 0.0172 - accuracy: 0.9933 - val_loss: 0.0305 - val_accuracy: 0.9900\n"
          ]
        }
      ]
    },
    {
      "cell_type": "markdown",
      "source": [
        "## Model Evaluation"
      ],
      "metadata": {
        "id": "KWkZwJln2t2D"
      }
    },
    {
      "cell_type": "markdown",
      "source": [
        "### Predictions"
      ],
      "metadata": {
        "id": "-3TP71q028Oz"
      }
    },
    {
      "cell_type": "code",
      "source": [
        "results = model.predict(test_dataset, steps=test_steps)\n",
        "\n",
        "# This means that for each of the 192 images that we have in our test set, there are 11 predictions generated (i.e. one for each class: 0 to 1 plus background).\n",
        "print(results.shape)"
      ],
      "metadata": {
        "colab": {
          "base_uri": "https://localhost:8080/"
        },
        "id": "3wFEiSle2wdF",
        "outputId": "681c2841-67c1-4d67-e201-a2f534602612"
      },
      "execution_count": 16,
      "outputs": [
        {
          "output_type": "stream",
          "name": "stdout",
          "text": [
            "(192, 64, 84, 11)\n"
          ]
        }
      ]
    },
    {
      "cell_type": "code",
      "source": [
        "# get the index of the highest probability of each of these 11 slices and combine them in a single image.\n",
        "results = np.argmax(results, axis=3)\n",
        "\n",
        "print(results.shape)"
      ],
      "metadata": {
        "colab": {
          "base_uri": "https://localhost:8080/"
        },
        "id": "vlcB4qsD32u0",
        "outputId": "ed18f457-b5bf-4c1f-919a-4363f96d3bc4"
      },
      "execution_count": 17,
      "outputs": [
        {
          "output_type": "stream",
          "name": "stdout",
          "text": [
            "(192, 64, 84)\n"
          ]
        }
      ]
    },
    {
      "cell_type": "code",
      "source": [
        "print(results[0,0,0])\n",
        "\n",
        "# prediction map for image 0\n",
        "# The upper left corner is usually just part of the background (class 10). The actual digits are written somewhere in the middle parts of the image.\n",
        "print(results[0,:,:])"
      ],
      "metadata": {
        "colab": {
          "base_uri": "https://localhost:8080/"
        },
        "id": "yokkQj2VOdiV",
        "outputId": "6fd39da7-1f29-4845-9152-bade5e08b95b"
      },
      "execution_count": 18,
      "outputs": [
        {
          "output_type": "stream",
          "name": "stdout",
          "text": [
            "10\n",
            "[[10 10 10 ... 10 10 10]\n",
            " [10 10 10 ... 10 10 10]\n",
            " [10 10 10 ... 10 10 10]\n",
            " ...\n",
            " [10 10 10 ... 10 10 10]\n",
            " [10 10 10 ... 10 10 10]\n",
            " [10 10 10 ... 10 10 10]]\n"
          ]
        }
      ]
    },
    {
      "cell_type": "markdown",
      "source": [
        "### Metrics\n",
        "\n",
        "There are two ways to evaluate predictions. The intersection over union (IOU)and the dice score.\n",
        "\n",
        "<br>\n",
        "$$IOU = \\frac{area\\_of\\_overlap}{area\\_of\\_union}$$\n",
        "<br>\n",
        "$$Dice Score = 2 * \\frac{area\\_of\\_overlap}{combined\\_area}$$\n",
        "<br>"
      ],
      "metadata": {
        "id": "IDa1mM7K3AWd"
      }
    },
    {
      "cell_type": "code",
      "source": [
        "def class_wise_metrics(y_true, y_pred):\n",
        "  '''\n",
        "  Computes the class-wise IOU and Dice Score.\n",
        "\n",
        "  Args:\n",
        "    y_true (tensor) - ground truth label maps\n",
        "    y_pred (tensor) - predicted label maps\n",
        "  '''\n",
        "  class_wise_iou = []\n",
        "  class_wise_dice_score = []\n",
        "\n",
        "  smoothing_factor = 0.00001\n",
        "\n",
        "  for i in range(n_classes):\n",
        "    intersection = np.sum((y_pred == i) * (y_true == i))\n",
        "    y_true_area = np.sum((y_true == i))\n",
        "    y_pred_area = np.sum((y_pred == i))\n",
        "    combined_area = y_true_area + y_pred_area\n",
        "    \n",
        "    iou = (intersection) / (combined_area - intersection + smoothing_factor)\n",
        "    class_wise_iou.append(iou)\n",
        "    \n",
        "    dice_score =  2 * ((intersection) / (combined_area + smoothing_factor))\n",
        "    class_wise_dice_score.append(dice_score)\n",
        "\n",
        "  return class_wise_iou, class_wise_dice_score"
      ],
      "metadata": {
        "id": "P0NSPpeS3vUB"
      },
      "execution_count": 19,
      "outputs": []
    },
    {
      "cell_type": "markdown",
      "source": [
        "### Visualize Predictions"
      ],
      "metadata": {
        "id": "fAt7IYqr4CWh"
      }
    },
    {
      "cell_type": "code",
      "source": [
        "integer_slider = 105 # between 0 to 191 to pick an image from the test set\n",
        "\n",
        "ds = test_dataset.unbatch()\n",
        "ds = ds.batch(200)\n",
        "images = []\n",
        "\n",
        "y_true_segments = []\n",
        "for image, annotation in ds.take(2):\n",
        "  y_true_segments = annotation\n",
        "  images = image\n",
        "  \n",
        "iou, dice_score = class_wise_metrics(np.argmax(y_true_segments[integer_slider], axis=2), results[integer_slider])  \n",
        "show_annotation_and_prediction(image[integer_slider], annotation[integer_slider], results[integer_slider], iou, dice_score)"
      ],
      "metadata": {
        "colab": {
          "base_uri": "https://localhost:8080/",
          "height": 244
        },
        "id": "Yf96g3a03zM4",
        "outputId": "f16be251-9a86-40f5-a5e5-08c7d7776641"
      },
      "execution_count": 20,
      "outputs": [
        {
          "output_type": "display_data",
          "data": {
            "text/plain": [
              "<Figure size 1080x288 with 3 Axes>"
            ],
            "image/png": "[encoded data removed]"
          },
          "metadata": {}
        }
      ]
    },
    {
      "cell_type": "markdown",
      "source": [
        "### Compute IOU Score and Dice Score of the model"
      ],
      "metadata": {
        "id": "T7nzYanw4WeV"
      }
    },
    {
      "cell_type": "code",
      "source": [
        "cls_wise_iou, cls_wise_dice_score = class_wise_metrics(np.argmax(y_true_segments, axis=3), results)\n",
        "\n",
        "average_iou = 0.0\n",
        "for idx, (iou, dice_score) in enumerate(zip(cls_wise_iou[:-1], cls_wise_dice_score[:-1])):\n",
        "  print(\"Digit {}: IOU: {} Dice Score: {}\".format(idx, iou, dice_score)) \n",
        "  average_iou += iou\n",
        "\n",
        "print(\"\\nGrade is \" + str(average_iou * 10))"
      ],
      "metadata": {
        "colab": {
          "base_uri": "https://localhost:8080/"
        },
        "id": "4db3kcj84Rfq",
        "outputId": "3a7f996c-46e7-4c6c-fc25-cf4affe4a185"
      },
      "execution_count": 21,
      "outputs": [
        {
          "output_type": "stream",
          "name": "stdout",
          "text": [
            "Digit 0: IOU: 0.8315009827201701 Dice Score: 0.9079994939289779\n",
            "Digit 1: IOU: 0.8283220147807241 Dice Score: 0.906100794153668\n",
            "Digit 2: IOU: 0.8248056981463638 Dice Score: 0.9039929007063062\n",
            "Digit 3: IOU: 0.7796501351634567 Dice Score: 0.876183604584558\n",
            "Digit 4: IOU: 0.7712755390373428 Dice Score: 0.8708701972551571\n",
            "Digit 5: IOU: 0.7705311104537452 Dice Score: 0.8703954490314224\n",
            "Digit 6: IOU: 0.7759562831434345 Dice Score: 0.8738461532059735\n",
            "Digit 7: IOU: 0.8333981074836143 Dice Score: 0.9091294510252054\n",
            "Digit 8: IOU: 0.7754332018230391 Dice Score: 0.8735143637359194\n",
            "Digit 9: IOU: 0.7531268601055289 Dice Score: 0.8591812460852886\n",
            "\n",
            "Grade is 79.4399993285742\n"
          ]
        }
      ]
    }
  ]
}